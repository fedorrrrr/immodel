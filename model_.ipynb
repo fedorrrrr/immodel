{
 "cells": [
  {
   "cell_type": "code",
   "execution_count": 1,
   "metadata": {
    "colab": {
     "base_uri": "https://localhost:8080/"
    },
    "id": "4P9CKGkHggTF",
    "outputId": "394b8f07-5862-42a8-be27-3c185dae707f"
   },
   "outputs": [],
   "source": [
    "\n",
    "import matplotlib\n",
    "import matplotlib.pyplot as plt \n",
    "import ciw\n",
    "import random\n",
    "import networkx as nx\n",
    "from statistics import mean\n",
    "import numpy as np"
   ]
  },
  {
   "cell_type": "markdown",
   "metadata": {
    "id": "Zg49mwWniIwI"
   },
   "source": [
    "## Пользователи:\n",
    "- Отдел бухгалтерии\n",
    "- Отдел финансовый\n",
    "- Отдел маркетинга\n",
    "- Отдел ИТ\n",
    "- Главный отдел: Началник + Замы\n",
    "\n",
    "## Сервисы:\n",
    "- VPN-сервер\n",
    "- Веб-сервер\n",
    "- Почтовый сервер\n",
    "- Сервер 1С\n",
    "- Файл-сервер\n",
    "- CRM-сервер\n",
    "\n",
    "## 2 класса (2 типа) трафика: Класс 0 имеет выший приоритет\n",
    "- Class 0: мультимедийный трафик (голос, видео)\n",
    "- Class 1: обычный трафик (текст, ...)\n",
    "\n",
    "## Результаты моделирования\n",
    "- Загруженность серверов\n",
    "- Количество заявок в среднем\n",
    "- Количество отказов"
   ]
  },
  {
   "cell_type": "markdown",
   "metadata": {
    "id": "li5XmxAN2oeX"
   },
   "source": [
    "# Единица времени"
   ]
  },
  {
   "cell_type": "code",
   "execution_count": 2,
   "metadata": {
    "colab": {
     "base_uri": "https://localhost:8080/"
    },
    "id": "Z44OgTKb2pnR",
    "outputId": "7ffcfb2b-2745-4039-b479-d0541ae360b8"
   },
   "outputs": [
    {
     "data": {
      "text/plain": [
       "(4.0, 4.166666666666667, 4.166666666666667)"
      ]
     },
     "execution_count": 2,
     "metadata": {},
     "output_type": "execute_result"
    }
   ],
   "source": [
    "t = 100*60 # minutes\n",
    "hour = (t/60) % 24\n",
    "day = (t/60/24) % (7)\n",
    "month = (t/60) / 24\n",
    "hour, day, month"
   ]
  },
  {
   "cell_type": "code",
   "execution_count": 3,
   "metadata": {
    "colab": {
     "base_uri": "https://localhost:8080/"
    },
    "id": "b_C9kLtbAGiw",
    "outputId": "56b22fbc-5099-4e80-e2a7-c632084b0ca5"
   },
   "outputs": [
    {
     "data": {
      "text/plain": [
       "(0, 3.0, 0.3333333333333333)"
      ]
     },
     "execution_count": 3,
     "metadata": {},
     "output_type": "execute_result"
    }
   ],
   "source": [
    "time = 24*10 # hour\n",
    "hour = time % 24\n",
    "day = (time/24) % 7\n",
    "month = time / (24*30)\n",
    "hour, day, month"
   ]
  },
  {
   "cell_type": "markdown",
   "metadata": {
    "id": "Hj1gMA7S8ypU"
   },
   "source": [
    "# Режим работы:\n",
    "- Рабочий: 9 < hour < 18, 0 < day < 5, 1 < month < 12"
   ]
  },
  {
   "cell_type": "markdown",
   "metadata": {
    "id": "OOUAwG3xLSWa"
   },
   "source": [
    "# 1. Топология сети - нумерация узлов начинается с 0 по 22"
   ]
  },
  {
   "cell_type": "code",
   "execution_count": 4,
   "metadata": {
    "id": "D1GrMrim2-O5"
   },
   "outputs": [],
   "source": [
    "G = nx.Graph()\n",
    "import numpy as np\n",
    "node_list = np.arange(0, 23) # numerate node from 0 to 22.\n",
    "G.add_nodes_from(node_list)\n",
    "G.add_edges_from([(0, 4), (1, 4), (2, 4), (3, 4), (4, 5), (4, 6), (4, 7), (4,8)])\n",
    "G.add_edges_from([(8, 9), (9, 10), (9, 11), (9, 12), (9, 13), (10, 14), (14, 15), (15, 16)])\n",
    "G.add_edges_from([(14, 17), (17, 18), (14, 21), (21, 22), (14, 19), (19, 20)])"
   ]
  },
  {
   "cell_type": "code",
   "execution_count": 5,
   "metadata": {
    "colab": {
     "base_uri": "https://localhost:8080/",
     "height": 319
    },
    "id": "QRNucIidcj2h",
    "outputId": "4342cb42-37f2-4ee9-8895-61a37b0d8ae9"
   },
   "outputs": [
    {
     "data": {
      "image/png": "[encoded data removed]",
      "text/plain": [
       "<Figure size 432x288 with 1 Axes>"
      ]
     },
     "metadata": {},
     "output_type": "display_data"
    }
   ],
   "source": [
    "nx.draw(G, with_labels=True, font_weight='bold')"
   ]
  },
  {
   "cell_type": "markdown",
   "metadata": {
    "id": "PW9cXbmLeUNu"
   },
   "source": [
    "# Построение таблиц маршрутизации"
   ]
  },
  {
   "cell_type": "code",
   "execution_count": 6,
   "metadata": {
    "id": "J1F_Clu6jn5M"
   },
   "outputs": [],
   "source": [
    "# Таблица маршрутизации трафика класса 0\n",
    "class0_routing = np.zeros((23, 23))\n",
    "class0_routing[0][4] = 1.0\n",
    "class0_routing[1][4] = 1.0\n",
    "class0_routing[2][4] = 1.0\n",
    "class0_routing[3][4] = 1.0\n",
    "\n",
    "class0_routing[4][5] = 0.25\n",
    "class0_routing[4][6] = 0.25\n",
    "class0_routing[4][7] = 0.25\n",
    "class0_routing[4][8] = 0.25\n",
    "\n",
    "class0_routing[8][9] = 1.0\n",
    "\n",
    "class0_routing[9][11] = 0.3\n",
    "class0_routing[9][12] = 0.6\n",
    "class0_routing[9][13] = 0.1\n",
    "\n",
    "class0_routing[10][9] = 1.0\n",
    "class0_routing[14][10] = 1.0\n",
    "\n",
    "class0_routing[16][15] = 1.0\n",
    "class0_routing[15][14] = 1.0\n",
    "\n",
    "class0_routing[18][17] = 1.0\n",
    "class0_routing[17][14] = 1.0\n",
    "\n",
    "class0_routing[20][19] = 1.0\n",
    "class0_routing[19][14] = 1.0\n",
    "\n",
    "class0_routing[22][21] = 1.0\n",
    "class0_routing[21][14] = 1.0"
   ]
  },
  {
   "cell_type": "code",
   "execution_count": 7,
   "metadata": {
    "id": "ZDkisHXYm20P"
   },
   "outputs": [],
   "source": [
    "# Таблица маршрутизации трафика класса 1\n",
    "class1_routing = np.zeros((23, 23))\n",
    "class1_routing[0][4] = 1.0\n",
    "class1_routing[1][4] = 1.0\n",
    "class1_routing[2][4] = 1.0\n",
    "class1_routing[3][4] = 1.0\n",
    "\n",
    "class1_routing[4][5] = 0.1\n",
    "class1_routing[4][6] = 0.2\n",
    "class1_routing[4][7] = 0.3\n",
    "class1_routing[4][8] = 0.4\n",
    "\n",
    "class1_routing[8][9] = 1.0\n",
    "\n",
    "class1_routing[9][11] = 0.3\n",
    "class1_routing[9][12] = 0.6\n",
    "class1_routing[9][13] = 0.1\n",
    "\n",
    "class1_routing[10][9] = 1.0\n",
    "class1_routing[14][10] = 1.0\n",
    "\n",
    "class1_routing[16][15] = 1.0\n",
    "class1_routing[15][14] = 1.0\n",
    "\n",
    "class1_routing[18][17] = 1.0\n",
    "class1_routing[17][14] = 1.0\n",
    "\n",
    "class1_routing[20][19] = 1.0\n",
    "class1_routing[19][14] = 1.0\n",
    "\n",
    "class1_routing[22][21] = 1.0\n",
    "class1_routing[21][14] = 1.0"
   ]
  },
  {
   "cell_type": "markdown",
   "metadata": {
    "id": "5p2_PrOTupf_"
   },
   "source": [
    "# 2. Моделирования в течение часа\n",
    "- Единица врмение - минута\n",
    "- Задавать интенсивность заявков в узлах: Node0, Node1, Node2, Node3, Node14, Node16, Node18, Node20, Node22"
   ]
  },
  {
   "cell_type": "markdown",
   "metadata": {
    "id": "MSTnSyMLsGpR"
   },
   "source": [
    "## 2.1 Создание сети"
   ]
  },
  {
   "cell_type": "code",
   "execution_count": 8,
   "metadata": {
    "id": "Mn2iGjW2c5t7"
   },
   "outputs": [],
   "source": [
    "lam1 = 500/18\n",
    "lam2 = 10/18\n",
    "mu1 = 800/18\n",
    "mu2 = 1000/18\n",
    "\n",
    "N = ciw.create_network(\n",
    "    arrival_distributions={'Class 0': [ciw.dists.Exponential(rate=lam1),       # Node 0\n",
    "                                       ciw.dists.Exponential(rate=lam1),       # Node 1\n",
    "                                       ciw.dists.Exponential(rate=lam1),       # Node 2\n",
    "                                       ciw.dists.Exponential(rate=lam1),       # Node 3\n",
    "                                       ciw.dists.NoArrivals(),              # Node 4\n",
    "                                       ciw.dists.NoArrivals(),              # Node 5\n",
    "                                       ciw.dists.NoArrivals(),              # Node 6\n",
    "                                       ciw.dists.NoArrivals(),              # Node 7\n",
    "                                       ciw.dists.NoArrivals(),              # Node 8\n",
    "                                       ciw.dists.NoArrivals(),              # Node 9\n",
    "                                       ciw.dists.NoArrivals(),              # Node 10\n",
    "                                       ciw.dists.NoArrivals(),              # Node 11\n",
    "                                       ciw.dists.NoArrivals(),              # Node 12\n",
    "                                       ciw.dists.NoArrivals(),              # Node 13\n",
    "                                       ciw.dists.NoArrivals(),              # Node 14\n",
    "                                       ciw.dists.NoArrivals(),              # Node 15\n",
    "                                       ciw.dists.Exponential(rate=lam1),       # Node 16\n",
    "                                       ciw.dists.NoArrivals(),              # Node 17\n",
    "                                       ciw.dists.Exponential(rate=lam1),       # Node 18\n",
    "                                       ciw.dists.NoArrivals(),              # Node 19\n",
    "                                       ciw.dists.Exponential(rate=lam1),       # Node 20\n",
    "                                       ciw.dists.NoArrivals(),              # Node 21\n",
    "                                       ciw.dists.Exponential(rate=lam1)],      # Node 22\n",
    "                           'Class 1': [ciw.dists.Exponential(rate=lam1),       # Node 0\n",
    "                                       ciw.dists.Exponential(rate=lam1),       # Node 1\n",
    "                                       ciw.dists.Exponential(rate=lam1),       # Node 2\n",
    "                                       ciw.dists.Exponential(rate=lam1),       # Node 3\n",
    "                                       ciw.dists.NoArrivals(),              # Node 4\n",
    "                                       ciw.dists.NoArrivals(),              # Node 5\n",
    "                                       ciw.dists.NoArrivals(),              # Node 6\n",
    "                                       ciw.dists.NoArrivals(),              # Node 7\n",
    "                                       ciw.dists.NoArrivals(),              # Node 8\n",
    "                                       ciw.dists.NoArrivals(),              # Node 9\n",
    "                                       ciw.dists.NoArrivals(),              # Node 10\n",
    "                                       ciw.dists.NoArrivals(),              # Node 11\n",
    "                                       ciw.dists.NoArrivals(),              # Node 12\n",
    "                                       ciw.dists.NoArrivals(),              # Node 13\n",
    "                                       ciw.dists.NoArrivals(),              # Node 14\n",
    "                                       ciw.dists.NoArrivals(),              # Node 15\n",
    "                                       ciw.dists.Exponential(rate=lam1),       # Node 16\n",
    "                                       ciw.dists.NoArrivals(),              # Node 17\n",
    "                                       ciw.dists.Exponential(rate=lam1),       # Node 18\n",
    "                                       ciw.dists.NoArrivals(),              # Node 19\n",
    "                                       ciw.dists.Exponential(rate=lam1),       # Node 20\n",
    "                                       ciw.dists.NoArrivals(),              # Node 21\n",
    "                                       ciw.dists.Exponential(rate=lam1)]},     # Node 22\n",
    "    service_distributions={'Class 0': [ciw.dists.Exponential(rate=mu1),       # Node 0\n",
    "                                       ciw.dists.Exponential(rate=mu1),       # Node 1\n",
    "                                       ciw.dists.Exponential(rate=mu1),       # Node 2\n",
    "                                       ciw.dists.Exponential(rate=mu1),       # Node 3\n",
    "                                       ciw.dists.Exponential(rate=mu1),     # Node 4\n",
    "                                       ciw.dists.Exponential(rate=mu1),     # Node 5\n",
    "                                       ciw.dists.Exponential(rate=mu1),     # Node 6\n",
    "                                       ciw.dists.Exponential(rate=mu1),     # Node 7\n",
    "                                       ciw.dists.Exponential(rate=mu1),     # Node 8\n",
    "                                       ciw.dists.Exponential(rate=mu1),     # Node 9\n",
    "                                       ciw.dists.Exponential(rate=mu1),     # Node 10\n",
    "                                       ciw.dists.Exponential(rate=mu1),     # Node 11\n",
    "                                       ciw.dists.Exponential(rate=mu1),     # Node 12\n",
    "                                       ciw.dists.Exponential(rate=mu1),     # Node 13\n",
    "                                       ciw.dists.Exponential(rate=mu1),     # Node 14\n",
    "                                       ciw.dists.Exponential(rate=mu1),     # Node 15\n",
    "                                       ciw.dists.Exponential(rate=mu1),     # Node 16\n",
    "                                       ciw.dists.Exponential(rate=mu1),     # Node 17\n",
    "                                       ciw.dists.Exponential(rate=mu1),       # Node 18\n",
    "                                       ciw.dists.Exponential(rate=mu1),     # Node 19\n",
    "                                       ciw.dists.Exponential(rate=mu1),       # Node 20\n",
    "                                       ciw.dists.Exponential(rate=mu1),    # Node 21\n",
    "                                       ciw.dists.Exponential(rate=mu1)],      # Node 22\n",
    "                           'Class 1': [ciw.dists.Exponential(rate=mu1),       # Node 0\n",
    "                                       ciw.dists.Exponential(rate=mu1),       # Node 1\n",
    "                                       ciw.dists.Exponential(rate=mu1),       # Node 2\n",
    "                                       ciw.dists.Exponential(rate=mu1),       # Node 3\n",
    "                                       ciw.dists.Exponential(rate=mu1),     # Node 4\n",
    "                                       ciw.dists.Exponential(rate=mu1),     # Node 5\n",
    "                                       ciw.dists.Exponential(rate=mu1),     # Node 6\n",
    "                                       ciw.dists.Exponential(rate=mu1),     # Node 7\n",
    "                                       ciw.dists.Exponential(rate=mu1),     # Node 8\n",
    "                                       ciw.dists.Exponential(rate=mu1),     # Node 9\n",
    "                                       ciw.dists.Exponential(rate=mu1),     # Node 10\n",
    "                                       ciw.dists.Exponential(rate=mu1),     # Node 11\n",
    "                                       ciw.dists.Exponential(rate=mu1),     # Node 12\n",
    "                                       ciw.dists.Exponential(rate=mu1),     # Node 13\n",
    "                                       ciw.dists.Exponential(rate=mu1),     # Node 14\n",
    "                                       ciw.dists.Exponential(rate=mu1),    # Node 15\n",
    "                                       ciw.dists.Exponential(rate=mu1),     # Node 16\n",
    "                                       ciw.dists.Exponential(rate=mu1),     # Node 17\n",
    "                                       ciw.dists.Exponential(rate=mu1),       # Node 18\n",
    "                                       ciw.dists.Exponential(rate=mu1),     # Node 19\n",
    "                                       ciw.dists.Exponential(rate=mu1),       # Node 20\n",
    "                                       ciw.dists.Exponential(rate=mu1),    # Node 21\n",
    "                                       ciw.dists.Exponential(rate=mu1)]},     # Node 22\n",
    "    routing={'Class 0': class0_routing.tolist(),\n",
    "             'Class 1': class1_routing.tolist()},\n",
    "    number_of_servers=[1, 1, 1, 1, 1, 1, 1, 1, 1, 1, 1, 1, 1, 1, 1, 1, 1, 1, 1, 1, 1, 1, 1],\n",
    "    queue_capacities=[2000, 2000, 2000, 2000, 2000, 2000, 2000, 2000, 2000, 2000, 2000, 2000, 2000, 2000, 2000, 2000, 2000, 2000, 2000, 2000, 2000, 2000, 2000]\n",
    ")"
   ]
  },
  {
   "cell_type": "markdown",
   "metadata": {
    "id": "tcdSu2CisS_d"
   },
   "source": [
    "## 2.2 Запуск моделирования"
   ]
  },
  {
   "cell_type": "code",
   "execution_count": 9,
   "metadata": {
    "colab": {
     "base_uri": "https://localhost:8080/"
    },
    "id": "lJkgJCUbjs-R",
    "outputId": "f6d5a813-2c13-49c6-a398-51e2be486942"
   },
   "outputs": [],
   "source": [
    "node5_utilisation = []\n",
    "node6_utilisation = []\n",
    "node7_utilisation = []\n",
    "node11_utilisation = []\n",
    "node12_utilisation = []\n",
    "node13_utilisation = []\n",
    "\n",
    "node5_service_time = []\n",
    "node6_service_time = []\n",
    "node7_service_time = []\n",
    "node11_service_time = []\n",
    "node12_service_time = []\n",
    "node13_service_time = []\n",
    "\n",
    "node5_reject = []\n",
    "node6_reject = []\n",
    "node7_reject = []\n",
    "node11_reject = []\n",
    "node12_reject = []\n",
    "node13_reject = []\n",
    "\n",
    "hour_reject = 0\n",
    "\n",
    "for trial in range(1):\n",
    "  ciw.seed(trial)\n",
    "  Q = ciw.Simulation(N)\n",
    "  Q.simulate_until_max_time(60, progress_bar=False)\n",
    "  recs = Q.get_all_records()\n",
    "\n",
    "  # Получить время обслуживания серверов\n",
    "  node5_service_time.extend([r.service_time for r in recs if r.node==5])\n",
    "  node6_service_time.extend([r.service_time for r in recs if r.node==6])\n",
    "  node7_service_time.extend([r.service_time for r in recs if r.node==7])\n",
    "  node11_service_time.extend([r.service_time for r in recs if r.node==11])\n",
    "  node12_service_time.extend([r.service_time for r in recs if r.node==12])\n",
    "  node13_service_time.extend([r.service_time for r in recs if r.node==13])\n",
    "\n",
    "  # Получить среднюю заргуженность сервера\n",
    "  node5_utilisation.append(Q.transitive_nodes[5].server_utilisation)\n",
    "  node6_utilisation.append(Q.transitive_nodes[6].server_utilisation)\n",
    "  node7_utilisation.append(Q.transitive_nodes[7].server_utilisation)\n",
    "  node11_utilisation.append(Q.transitive_nodes[11].server_utilisation)\n",
    "  node12_utilisation.append(Q.transitive_nodes[12].server_utilisation)\n",
    "  node13_utilisation.append(Q.transitive_nodes[13].server_utilisation)\n",
    "\n",
    "  # Получичт количество отказов от серверов\n",
    "  node5_reject.append(len(Q.rejection_dict[6][0]))\n",
    "  node6_reject.append(len(Q.rejection_dict[7][0]))\n",
    "  node7_reject.append(len(Q.rejection_dict[8][0]))\n",
    "  node11_reject.append(len(Q.rejection_dict[12][0]))\n",
    "  node12_reject.append(len(Q.rejection_dict[13][0]))\n",
    "  node13_reject.append(len(Q.rejection_dict[14][0]))\n",
    "\n",
    "  for i in range(1, 24):\n",
    "    hour_reject += len(Q.rejection_dict[i][0])"
   ]
  },
  {
   "cell_type": "markdown",
   "metadata": {
    "id": "0Ez7FS2stONK"
   },
   "source": [
    "## 2.3 Результаты моделирования"
   ]
  },
  {
   "cell_type": "code",
   "execution_count": 10,
   "metadata": {
    "colab": {
     "base_uri": "https://localhost:8080/"
    },
    "id": "A6ewWsAfnJZ_",
    "outputId": "051ca1ff-bc89-4406-cc96-75513c0e8dd1"
   },
   "outputs": [
    {
     "name": "stdout",
     "output_type": "stream",
     "text": [
      "Средняя загруженность сервера 1C =  0.1643220567377117\n",
      "Средняя загруженность файл-сервера =  0.2246703468872719\n",
      "Средняя загруженность CRM-сервера =  0.263251582483499\n",
      "Средняя загруженность почтового сервера =  0.2907515759342053\n",
      "Средняя загруженность веб-сервера =  0.5714613086304327\n",
      "Средняя загруженность VPN-сервера =  0.09008083485797543\n"
     ]
    }
   ],
   "source": [
    "# Загруженность серверов\n",
    "node5_hour_load = mean(node5_utilisation)\n",
    "node6_hour_load = mean(node6_utilisation)\n",
    "node7_hour_load = mean(node7_utilisation)\n",
    "node11_hour_load = mean(node11_utilisation)\n",
    "node12_hour_load = mean(node12_utilisation)\n",
    "node13_hour_load = mean(node13_utilisation)\n",
    "\n",
    "print(\"Средняя загруженность сервера 1C = \", mean(node5_utilisation))\n",
    "print(\"Средняя загруженность файл-сервера = \", mean(node6_utilisation))\n",
    "print(\"Средняя загруженность CRM-сервера = \", mean(node7_utilisation))\n",
    "print(\"Средняя загруженность почтового сервера = \", mean(node11_utilisation))\n",
    "print(\"Средняя загруженность веб-сервера = \", mean(node12_utilisation))\n",
    "print(\"Средняя загруженность VPN-сервера = \", mean(node13_utilisation))"
   ]
  },
  {
   "cell_type": "code",
   "execution_count": 11,
   "metadata": {
    "colab": {
     "base_uri": "https://localhost:8080/"
    },
    "id": "zSOgNhq9o-OV",
    "outputId": "515ccaba-0c4a-45b5-e856-733cc37047cb"
   },
   "outputs": [
    {
     "name": "stdout",
     "output_type": "stream",
     "text": [
      "Среднее количество заявок поступающих к серверу 1C =  2676\n",
      "Среднее количество заявок поступающих к файл-серверау =  440\n",
      "Среднее количество заявок поступающих к CRM-серверу =  581\n",
      "Среднее количество заявок поступающих к почтовому серверу =  2637\n",
      "Среднее количество заявок поступающих к веб-серверу =  805\n",
      "Среднее количество заявок поступающих к VPN-серверу =  1593\n"
     ]
    }
   ],
   "source": [
    "# Количество заявок поступающих к серверм\n",
    "print(\"Среднее количество заявок поступающих к серверу 1C = \", len(node5_service_time))\n",
    "print(\"Среднее количество заявок поступающих к файл-серверау = \", len(node6_service_time))\n",
    "print(\"Среднее количество заявок поступающих к CRM-серверу = \", len(node7_service_time))\n",
    "print(\"Среднее количество заявок поступающих к почтовому серверу = \", len(node11_service_time))\n",
    "print(\"Среднее количество заявок поступающих к веб-серверу = \", len(node12_service_time))\n",
    "print(\"Среднее количество заявок поступающих к VPN-серверу = \", len(node13_service_time))"
   ]
  },
  {
   "cell_type": "code",
   "execution_count": 12,
   "metadata": {
    "colab": {
     "base_uri": "https://localhost:8080/"
    },
    "id": "lwy-itrkOvcp",
    "outputId": "6fa74cee-40d6-4995-b5c8-377f6518e202"
   },
   "outputs": [
    {
     "name": "stdout",
     "output_type": "stream",
     "text": [
      "Среднее количество отrазов завяки в течения часа =  328\n"
     ]
    }
   ],
   "source": [
    "# Количество отзазов\n",
    "print(\"Среднее количество отrазов завяки в течения часа = \", hour_reject)"
   ]
  },
  {
   "cell_type": "code",
   "execution_count": 13,
   "metadata": {
    "colab": {
     "base_uri": "https://localhost:8080/",
     "height": 585
    },
    "id": "hs3laGTmvZiA",
    "outputId": "e640977e-d922-4b2e-a978-2fee21cc89db"
   },
   "outputs": [
    {
     "data": {
      "image/png": "[encoded data removed]",
      "text/plain": [
       "<Figure size 864x576 with 6 Axes>"
      ]
     },
     "metadata": {
      "needs_background": "light"
     },
     "output_type": "display_data"
    }
   ],
   "source": [
    "# Интенсивность обработки заявок на серверах\n",
    "fig, axs = plt.subplots(2, 3, figsize=(12,8))\n",
    "axs[0, 0].hist(node5_service_time)\n",
    "axs[0, 0].set_title(\"Сервth 1C\")\n",
    "\n",
    "axs[1, 0].hist(node6_service_time)\n",
    "axs[1, 0].set_title(\"Файл-сервер\")\n",
    "\n",
    "axs[0, 1].hist(node7_service_time)\n",
    "axs[0, 1].set_title(\"CRM-сервер\")\n",
    "\n",
    "axs[1, 1].hist(node11_service_time)\n",
    "axs[1, 1].set_title(\"Почтовой сервер\")\n",
    "\n",
    "axs[0, 2].hist(node12_service_time)\n",
    "axs[0, 2].set_title(\"Веб-сервер\")\n",
    "\n",
    "axs[1, 2].hist(node13_service_time)\n",
    "axs[1, 2].set_title(\"VPN-сервер\")\n",
    "\n",
    "fig.tight_layout()\n",
    "plt.show()"
   ]
  },
  {
   "cell_type": "markdown",
   "metadata": {
    "id": "703BmtURvSRj"
   },
   "source": [
    "# 3. Моделирования в течение дня\n",
    "- Рабочий режим: 9-18 ч.\n",
    "- Нерабочий режим: 0-9 и 18-24 ч."
   ]
  },
  {
   "cell_type": "markdown",
   "metadata": {
    "id": "whWP7-Vpys0_"
   },
   "source": [
    "## 3.1. Создание сети"
   ]
  },
  {
   "cell_type": "code",
   "execution_count": 14,
   "metadata": {
    "id": "lYkT4s6kvXb2"
   },
   "outputs": [],
   "source": [
    "# Создание распределение поступающих заявок по режиму работы\n",
    "class DayTimeDependentDist(ciw.dists.Distribution):\n",
    "  def __init__(self, lambda1=1, lambda2=1):\n",
    "    self.lambda1 = lambda1\n",
    "    self.lambda2 = lambda2\n",
    "\n",
    "  def sample(self, t, ind=None):\n",
    "    # time unit - hour\n",
    "    hour = t % 24\n",
    "    if (hour > 9) and (hour < 18):\n",
    "      return random.expovariate(lambd=self.lambda1)\n",
    "    return random.expovariate(lambd=self.lambda2)"
   ]
  },
  {
   "cell_type": "code",
   "execution_count": 15,
   "metadata": {
    "id": "5aqjY2VwxXp5"
   },
   "outputs": [],
   "source": [
    "# 500 запрос в час в рабочем режиме\n",
    "# 10 запрос в час в нерабочем режиме\n",
    "# 800 и 1000 запросов можно обработать в час\n",
    "#lam1 = 500\n",
    "#lam2 = 10\n",
    "#mu1 = 800\n",
    "#mu2 = 1000\n",
    "\n",
    "lam1 = 180\n",
    "lam2 = 10\n",
    "mu1 = 100\n",
    "mu2 = 120\n",
    "\n",
    "N = ciw.create_network(\n",
    "    arrival_distributions={'Class 0': [DayTimeDependentDist(lam1, lam2),       # Node 0\n",
    "                                       DayTimeDependentDist(lam1, lam2),       # Node 1\n",
    "                                       DayTimeDependentDist(lam1, lam2),       # Node 2\n",
    "                                       DayTimeDependentDist(lam1, lam2),       # Node 3\n",
    "                                       ciw.dists.NoArrivals(),              # Node 4\n",
    "                                       ciw.dists.NoArrivals(),              # Node 5\n",
    "                                       ciw.dists.NoArrivals(),              # Node 6\n",
    "                                       ciw.dists.NoArrivals(),              # Node 7\n",
    "                                       ciw.dists.NoArrivals(),              # Node 8\n",
    "                                       ciw.dists.NoArrivals(),              # Node 9\n",
    "                                       ciw.dists.NoArrivals(),              # Node 10\n",
    "                                       ciw.dists.NoArrivals(),              # Node 11\n",
    "                                       ciw.dists.NoArrivals(),              # Node 12\n",
    "                                       ciw.dists.NoArrivals(),              # Node 13\n",
    "                                       ciw.dists.NoArrivals(),              # Node 14\n",
    "                                       ciw.dists.NoArrivals(),              # Node 15\n",
    "                                       DayTimeDependentDist(lam1, lam2),       # Node 16\n",
    "                                       ciw.dists.NoArrivals(),              # Node 17\n",
    "                                       DayTimeDependentDist(lam1, lam2),       # Node 18\n",
    "                                       ciw.dists.NoArrivals(),              # Node 19\n",
    "                                       DayTimeDependentDist(lam1, lam2),       # Node 20\n",
    "                                       ciw.dists.NoArrivals(),              # Node 21\n",
    "                                       DayTimeDependentDist(lam1, lam2)],      # Node 22\n",
    "                           'Class 1': [DayTimeDependentDist(lam1, lam2),       # Node 0\n",
    "                                       DayTimeDependentDist(lam1, lam2),       # Node 1\n",
    "                                       DayTimeDependentDist(lam1, lam2),       # Node 2\n",
    "                                       DayTimeDependentDist(lam1, lam2),       # Node 3\n",
    "                                       ciw.dists.NoArrivals(),              # Node 4\n",
    "                                       ciw.dists.NoArrivals(),              # Node 5\n",
    "                                       ciw.dists.NoArrivals(),              # Node 6\n",
    "                                       ciw.dists.NoArrivals(),              # Node 7\n",
    "                                       ciw.dists.NoArrivals(),              # Node 8\n",
    "                                       ciw.dists.NoArrivals(),              # Node 9\n",
    "                                       ciw.dists.NoArrivals(),              # Node 10\n",
    "                                       ciw.dists.NoArrivals(),              # Node 11\n",
    "                                       ciw.dists.NoArrivals(),              # Node 12\n",
    "                                       ciw.dists.NoArrivals(),              # Node 13\n",
    "                                       ciw.dists.NoArrivals(),              # Node 14\n",
    "                                       ciw.dists.NoArrivals(),              # Node 15\n",
    "                                       DayTimeDependentDist(lam1, lam2),       # Node 16\n",
    "                                       ciw.dists.NoArrivals(),              # Node 17\n",
    "                                       DayTimeDependentDist(lam1, lam2),       # Node 18\n",
    "                                       ciw.dists.NoArrivals(),              # Node 19\n",
    "                                       DayTimeDependentDist(lam1, lam2),       # Node 20\n",
    "                                       ciw.dists.NoArrivals(),              # Node 21\n",
    "                                       DayTimeDependentDist(lam1, lam2)]},     # Node 22\n",
    "     service_distributions={'Class 0': [ciw.dists.Exponential(rate=mu1),       # Node 0\n",
    "                                       ciw.dists.Exponential(rate=mu1),       # Node 1\n",
    "                                       ciw.dists.Exponential(rate=mu1),       # Node 2\n",
    "                                       ciw.dists.Exponential(rate=mu1),       # Node 3\n",
    "                                       ciw.dists.Exponential(rate=mu2),     # Node 4\n",
    "                                       ciw.dists.Exponential(rate=mu2),     # Node 5\n",
    "                                       ciw.dists.Exponential(rate=mu2),     # Node 6\n",
    "                                       ciw.dists.Exponential(rate=mu2),     # Node 7\n",
    "                                       ciw.dists.Exponential(rate=mu2),     # Node 8\n",
    "                                       ciw.dists.Exponential(rate=mu2),     # Node 9\n",
    "                                       ciw.dists.Exponential(rate=mu2),     # Node 10\n",
    "                                       ciw.dists.Exponential(rate=mu2),     # Node 11\n",
    "                                       ciw.dists.Exponential(rate=mu2),     # Node 12\n",
    "                                       ciw.dists.Exponential(rate=mu2),     # Node 13\n",
    "                                       ciw.dists.Exponential(rate=mu2),     # Node 14\n",
    "                                       ciw.dists.Exponential(rate=mu1),     # Node 15\n",
    "                                       ciw.dists.Exponential(rate=mu1),     # Node 16\n",
    "                                       ciw.dists.Exponential(rate=mu1),     # Node 17\n",
    "                                       ciw.dists.Exponential(rate=mu1),       # Node 18\n",
    "                                       ciw.dists.Exponential(rate=mu1),     # Node 19\n",
    "                                       ciw.dists.Exponential(rate=mu1),       # Node 20\n",
    "                                       ciw.dists.Exponential(rate=mu1),    # Node 21\n",
    "                                       ciw.dists.Exponential(rate=mu2)],      # Node 22\n",
    "                           'Class 1': [ciw.dists.Exponential(rate=mu1),       # Node 0\n",
    "                                       ciw.dists.Exponential(rate=mu1),       # Node 1\n",
    "                                       ciw.dists.Exponential(rate=mu1),       # Node 2\n",
    "                                       ciw.dists.Exponential(rate=mu1),       # Node 3\n",
    "                                       ciw.dists.Exponential(rate=mu2),     # Node 4\n",
    "                                       ciw.dists.Exponential(rate=mu2),     # Node 5\n",
    "                                       ciw.dists.Exponential(rate=mu2),     # Node 6\n",
    "                                       ciw.dists.Exponential(rate=mu2),     # Node 7\n",
    "                                       ciw.dists.Exponential(rate=mu2),     # Node 8\n",
    "                                       ciw.dists.Exponential(rate=mu2),     # Node 9\n",
    "                                       ciw.dists.Exponential(rate=mu2),     # Node 10\n",
    "                                       ciw.dists.Exponential(rate=mu2),     # Node 11\n",
    "                                       ciw.dists.Exponential(rate=mu2),     # Node 12\n",
    "                                       ciw.dists.Exponential(rate=mu2),     # Node 13\n",
    "                                       ciw.dists.Exponential(rate=mu2),     # Node 14\n",
    "                                       ciw.dists.Exponential(rate=mu1),     # Node 15\n",
    "                                       ciw.dists.Exponential(rate=mu1),     # Node 16\n",
    "                                       ciw.dists.Exponential(rate=mu1),     # Node 17\n",
    "                                       ciw.dists.Exponential(rate=mu1),       # Node 18\n",
    "                                       ciw.dists.Exponential(rate=mu1),     # Node 19\n",
    "                                       ciw.dists.Exponential(rate=mu1),       # Node 20\n",
    "                                       ciw.dists.Exponential(rate=mu1),    # Node 21\n",
    "                                       ciw.dists.Exponential(rate=mu2)]},      # Node 22\n",
    "    routing={'Class 0': class0_routing.tolist(),\n",
    "             'Class 1': class1_routing.tolist()},\n",
    "    number_of_servers=[1, 1, 1, 1, 1, 1, 1, 1, 1, 1, 1, 1, 1, 1, 1, 1, 1, 1, 1, 1, 1, 1, 1],\n",
    "    queue_capacities=[2000, 2000, 2000, 2000, 2000, 2000, 2000, 2000, 2000, 2000, 2000, 2000, 2000, 2000, 2000, 2000, 2000, 2000, 2000, 2000, 2000, 2000, 2000]\n",
    ")"
   ]
  },
  {
   "cell_type": "markdown",
   "metadata": {
    "id": "43gEU_mrzZ9s"
   },
   "source": [
    "## 3.2 Запуск моделирования"
   ]
  },
  {
   "cell_type": "code",
   "execution_count": 16,
   "metadata": {
    "colab": {
     "base_uri": "https://localhost:8080/"
    },
    "id": "6zxXv3jLzZYb",
    "outputId": "598f54b4-b00a-4e95-8a1e-43c1b714d8d2"
   },
   "outputs": [],
   "source": [
    "node5_utilisation = []\n",
    "node6_utilisation = []\n",
    "node7_utilisation = []\n",
    "node11_utilisation = []\n",
    "node12_utilisation = []\n",
    "node13_utilisation = []\n",
    "\n",
    "node5_service_time = []\n",
    "node6_service_time = []\n",
    "node7_service_time = []\n",
    "node11_service_time = []\n",
    "node12_service_time = []\n",
    "node13_service_time = []\n",
    "\n",
    "node5_reject = []\n",
    "node6_reject = []\n",
    "node7_reject = []\n",
    "node11_reject = []\n",
    "node12_reject = []\n",
    "node13_reject = []\n",
    "\n",
    "day_reject = 0\n",
    "\n",
    "for trial in range(1):\n",
    "  ciw.seed(trial)\n",
    "  Q = ciw.Simulation(N)\n",
    "  Q.simulate_until_max_time(24, progress_bar=False) # 24 часа\n",
    "  recs = Q.get_all_records()\n",
    "  # Получить время обслуживания серверов\n",
    "  node5_service_time.extend([r.service_time for r in recs if r.node==5])\n",
    "  node6_service_time.extend([r.service_time for r in recs if r.node==6])\n",
    "  node7_service_time.extend([r.service_time for r in recs if r.node==7])\n",
    "  node11_service_time.extend([r.service_time for r in recs if r.node==11])\n",
    "  node12_service_time.extend([r.service_time for r in recs if r.node==12])\n",
    "  node13_service_time.extend([r.service_time for r in recs if r.node==13])\n",
    "\n",
    "  # Получить среднюю заргуженность сервера\n",
    "  node5_utilisation.append(Q.transitive_nodes[5].server_utilisation)\n",
    "  node6_utilisation.append(Q.transitive_nodes[6].server_utilisation)\n",
    "  node7_utilisation.append(Q.transitive_nodes[7].server_utilisation)\n",
    "  node11_utilisation.append(Q.transitive_nodes[11].server_utilisation)\n",
    "  node12_utilisation.append(Q.transitive_nodes[12].server_utilisation)\n",
    "  node13_utilisation.append(Q.transitive_nodes[13].server_utilisation)\n",
    "\n",
    "  # Получичт количество отказов от серверов\n",
    "  node5_reject.append(len(Q.rejection_dict[6][0]))\n",
    "  node6_reject.append(len(Q.rejection_dict[7][0]))\n",
    "  node7_reject.append(len(Q.rejection_dict[8][0]))\n",
    "  node11_reject.append(len(Q.rejection_dict[12][0]))\n",
    "  node12_reject.append(len(Q.rejection_dict[13][0]))\n",
    "  node13_reject.append(len(Q.rejection_dict[14][0]))\n",
    "\n",
    "  for i in range(1, 24):\n",
    "    day_reject += len(Q.rejection_dict[i][0])"
   ]
  },
  {
   "cell_type": "markdown",
   "metadata": {
    "id": "3wjCxBLozpCy"
   },
   "source": [
    "## 3.3 Результаты моделирования"
   ]
  },
  {
   "cell_type": "code",
   "execution_count": 17,
   "metadata": {
    "colab": {
     "base_uri": "https://localhost:8080/"
    },
    "id": "FrZjLs8Dzt0l",
    "outputId": "5747fb90-74aa-474c-9285-c97841dcc905"
   },
   "outputs": [
    {
     "name": "stdout",
     "output_type": "stream",
     "text": [
      "Средняя загруженность сервера 1C =  0.15469251591312738\n",
      "Средняя загруженность файл-сервера =  0.2091184005776795\n",
      "Средняя загруженность CRM-сервера =  0.2292706855175799\n",
      "Средняя загруженность почтового сервера =  0.29891222886725943\n",
      "Средняя загруженность веб-сервера =  0.6144222403638859\n",
      "Средняя загруженность VPN-сервера =  0.090281745970732\n"
     ]
    }
   ],
   "source": [
    "# Загруженность серверов\n",
    "node5_day_load = mean(node5_utilisation)\n",
    "node6_day_load = mean(node6_utilisation)\n",
    "node7_day_load = mean(node7_utilisation)\n",
    "node11_day_load = mean(node11_utilisation)\n",
    "node12_day_load = mean(node12_utilisation)\n",
    "node13_day_load = mean(node13_utilisation)\n",
    "\n",
    "print(\"Средняя загруженность сервера 1C = \", mean(node5_utilisation))\n",
    "print(\"Средняя загруженность файл-сервера = \", mean(node6_utilisation))\n",
    "print(\"Средняя загруженность CRM-сервера = \", mean(node7_utilisation))\n",
    "print(\"Средняя загруженность почтового сервера = \", mean(node11_utilisation))\n",
    "print(\"Средняя загруженность веб-сервера = \", mean(node12_utilisation))\n",
    "print(\"Средняя загруженность VPN-сервера = \", mean(node13_utilisation))"
   ]
  },
  {
   "cell_type": "code",
   "execution_count": 18,
   "metadata": {
    "colab": {
     "base_uri": "https://localhost:8080/"
    },
    "id": "VIE-FuXLTLHl",
    "outputId": "70821e80-121b-497e-f6a0-f3c10a7f6685"
   },
   "outputs": [
    {
     "name": "stdout",
     "output_type": "stream",
     "text": [
      "Среднее количество заявок, поступающих к серверу 1C =  2594\n",
      "Среднее количество заявок, поступающих к файл-серверау =  444\n",
      "Среднее количество заявок, поступающих к CRM-серверу =  605\n",
      "Среднее количество заявок, поступающих к почтовому серверу =  2448\n",
      "Среднее количество заявок, поступающих к веб-серверу =  807\n",
      "Среднее количество заявок, поступающих к VPN-серверу =  1680\n"
     ]
    }
   ],
   "source": [
    "# Количество заявок поступающих к серверм\n",
    "print(\"Среднее количество заявок, поступающих к серверу 1C = \", len(node5_service_time))\n",
    "print(\"Среднее количество заявок, поступающих к файл-серверау = \", len(node6_service_time))\n",
    "print(\"Среднее количество заявок, поступающих к CRM-серверу = \", len(node7_service_time))\n",
    "print(\"Среднее количество заявок, поступающих к почтовому серверу = \", len(node11_service_time))\n",
    "print(\"Среднее количество заявок, поступающих к веб-серверу = \", len(node12_service_time))\n",
    "print(\"Среднее количество заявок, поступающих к VPN-серверу = \", len(node13_service_time))"
   ]
  },
  {
   "cell_type": "code",
   "execution_count": 19,
   "metadata": {
    "colab": {
     "base_uri": "https://localhost:8080/"
    },
    "id": "m56_80l2TTGE",
    "outputId": "e8de366c-9c12-482d-fbe5-a66c825cb0cc"
   },
   "outputs": [
    {
     "name": "stdout",
     "output_type": "stream",
     "text": [
      "Среднее количество отказов завяки в течения дня =  1351\n"
     ]
    }
   ],
   "source": [
    "# Количество отзазов\n",
    "print(\"Среднее количество отказов завяки в течения дня = \", day_reject)"
   ]
  },
  {
   "cell_type": "code",
   "execution_count": 20,
   "metadata": {
    "colab": {
     "base_uri": "https://localhost:8080/",
     "height": 585
    },
    "id": "g-6cSblnTQOZ",
    "outputId": "97d8775e-4b55-433f-d1a2-eecec10f8bbf"
   },
   "outputs": [
    {
     "data": {
      "image/png": "[encoded data removed]",
      "text/plain": [
       "<Figure size 864x576 with 6 Axes>"
      ]
     },
     "metadata": {
      "needs_background": "light"
     },
     "output_type": "display_data"
    }
   ],
   "source": [
    "# Интенсивность обработки заявок на серверах\n",
    "fig, axs = plt.subplots(2, 3, figsize=(12,8))\n",
    "axs[0, 0].hist(node5_service_time)\n",
    "axs[0, 0].set_title(\"Сервер 1C\")\n",
    "\n",
    "axs[1, 0].hist(node6_service_time)\n",
    "axs[1, 0].set_title(\"Файл-сервер\")\n",
    "\n",
    "axs[0, 1].hist(node7_service_time)\n",
    "axs[0, 1].set_title(\"CRM-сервер\")\n",
    "\n",
    "axs[1, 1].hist(node11_service_time)\n",
    "axs[1, 1].set_title(\"Почтовой сервер\")\n",
    "\n",
    "axs[0, 2].hist(node12_service_time)\n",
    "axs[0, 2].set_title(\"Веб-сервер\")\n",
    "\n",
    "axs[1, 2].hist(node13_service_time)\n",
    "axs[1, 2].set_title(\"VPN-сервер\")\n",
    "\n",
    "fig.tight_layout()\n",
    "plt.show()"
   ]
  },
  {
   "cell_type": "markdown",
   "metadata": {
    "id": "eF6puFBSz_6R"
   },
   "source": [
    "# 4. Моделирование в течение месяца"
   ]
  },
  {
   "cell_type": "markdown",
   "metadata": {
    "id": "3mS-bK2b0IG7"
   },
   "source": [
    "## 4.1 Создание сети"
   ]
  },
  {
   "cell_type": "code",
   "execution_count": 21,
   "metadata": {
    "id": "v40ej-4q0Mk5"
   },
   "outputs": [],
   "source": [
    "class MonthTimeDependentDist(ciw.dists.Distribution):\n",
    "  def __init__(self, lambda1=1, lambda2=1):\n",
    "    self.lambda1 = lambda1\n",
    "    self.lambda2 = lambda2\n",
    "  \n",
    "  def sample(self, t, ind=None):\n",
    "    # time unit - hour\n",
    "    hour = t % 24\n",
    "    day = (t/24) % 7\n",
    "\n",
    "    if (hour > 9) and (hour < 18) and (day > 0) and (day < 5):\n",
    "      return random.expovariate(lambd=self.lambda1)\n",
    "    return random.expovariate(lambd=self.lambda2)\n",
    "\n",
    "  '''\n",
    "  def sample(self, t, ind=None):\n",
    "    # time unit - minute\n",
    "    hour = (t/60) % 24\n",
    "    day = (t/60/24) % (7)\n",
    "\n",
    "    if (hour > 9) and (hour < 18) and (day > 0) and (day < 5):\n",
    "      return random.expovariate(lambd=self.lambda1)\n",
    "    return random.expovariate(lambd=self.lambda2)\n",
    "    '''"
   ]
  },
  {
   "cell_type": "code",
   "execution_count": 22,
   "metadata": {
    "id": "dsc7YxqG0xy0"
   },
   "outputs": [],
   "source": [
    "#lam1 = 500\n",
    "#lam2 = 10\n",
    "#mu1 = 800\n",
    "#mu2 = 1000\n",
    "\n",
    "lam1 = 80\n",
    "lam2 = 10\n",
    "mu1 = 100\n",
    "mu2 = 120\n",
    "\n",
    "N = ciw.create_network(\n",
    "    arrival_distributions={'Class 0': [MonthTimeDependentDist(lam1, lam2),       # Node 0\n",
    "                                       MonthTimeDependentDist(lam1, lam2),       # Node 1\n",
    "                                       MonthTimeDependentDist(lam1, lam2),       # Node 2\n",
    "                                       MonthTimeDependentDist(lam1, lam2),       # Node 3\n",
    "                                       ciw.dists.NoArrivals(),              # Node 4\n",
    "                                       ciw.dists.NoArrivals(),              # Node 5\n",
    "                                       ciw.dists.NoArrivals(),              # Node 6\n",
    "                                       ciw.dists.NoArrivals(),              # Node 7\n",
    "                                       ciw.dists.NoArrivals(),              # Node 8\n",
    "                                       ciw.dists.NoArrivals(),              # Node 9\n",
    "                                       ciw.dists.NoArrivals(),              # Node 10\n",
    "                                       ciw.dists.NoArrivals(),              # Node 11\n",
    "                                       ciw.dists.NoArrivals(),              # Node 12\n",
    "                                       ciw.dists.NoArrivals(),              # Node 13\n",
    "                                       ciw.dists.NoArrivals(),              # Node 14\n",
    "                                       ciw.dists.NoArrivals(),              # Node 15\n",
    "                                       MonthTimeDependentDist(lam1, lam2),       # Node 16\n",
    "                                       ciw.dists.NoArrivals(),              # Node 17\n",
    "                                       MonthTimeDependentDist(lam1, lam2),       # Node 18\n",
    "                                       ciw.dists.NoArrivals(),              # Node 19\n",
    "                                       MonthTimeDependentDist(lam1, lam2),       # Node 20\n",
    "                                       ciw.dists.NoArrivals(),              # Node 21\n",
    "                                       MonthTimeDependentDist(lam1, lam2)],      # Node 22\n",
    "                           'Class 1': [MonthTimeDependentDist(lam1, lam2),       # Node 0\n",
    "                                       MonthTimeDependentDist(lam1, lam2),       # Node 1\n",
    "                                       MonthTimeDependentDist(lam1, lam2),       # Node 2\n",
    "                                       MonthTimeDependentDist(lam1, lam2),       # Node 3\n",
    "                                       ciw.dists.NoArrivals(),              # Node 4\n",
    "                                       ciw.dists.NoArrivals(),              # Node 5\n",
    "                                       ciw.dists.NoArrivals(),              # Node 6\n",
    "                                       ciw.dists.NoArrivals(),              # Node 7\n",
    "                                       ciw.dists.NoArrivals(),              # Node 8\n",
    "                                       ciw.dists.NoArrivals(),              # Node 9\n",
    "                                       ciw.dists.NoArrivals(),              # Node 10\n",
    "                                       ciw.dists.NoArrivals(),              # Node 11\n",
    "                                       ciw.dists.NoArrivals(),              # Node 12\n",
    "                                       ciw.dists.NoArrivals(),              # Node 13\n",
    "                                       ciw.dists.NoArrivals(),              # Node 14\n",
    "                                       ciw.dists.NoArrivals(),              # Node 15\n",
    "                                       MonthTimeDependentDist(lam1, lam2),       # Node 16\n",
    "                                       ciw.dists.NoArrivals(),              # Node 17\n",
    "                                       MonthTimeDependentDist(lam1, lam2),       # Node 18\n",
    "                                       ciw.dists.NoArrivals(),              # Node 19\n",
    "                                       MonthTimeDependentDist(lam1, lam2),       # Node 20\n",
    "                                       ciw.dists.NoArrivals(),              # Node 21\n",
    "                                       MonthTimeDependentDist(lam1, lam2)]},     # Node 22\n",
    "    service_distributions={'Class 0': [ciw.dists.Exponential(rate=mu1),       # Node 0\n",
    "                                       ciw.dists.Exponential(rate=mu1),       # Node 1\n",
    "                                       ciw.dists.Exponential(rate=mu1),       # Node 2\n",
    "                                       ciw.dists.Exponential(rate=mu1),       # Node 3\n",
    "                                       ciw.dists.Exponential(rate=mu2),     # Node 4\n",
    "                                       ciw.dists.Exponential(rate=mu2),     # Node 5\n",
    "                                       ciw.dists.Exponential(rate=mu2),     # Node 6\n",
    "                                       ciw.dists.Exponential(rate=mu2),     # Node 7\n",
    "                                       ciw.dists.Exponential(rate=mu2),     # Node 8\n",
    "                                       ciw.dists.Exponential(rate=mu2),     # Node 9\n",
    "                                       ciw.dists.Exponential(rate=mu2),     # Node 10\n",
    "                                       ciw.dists.Exponential(rate=mu2),     # Node 11\n",
    "                                       ciw.dists.Exponential(rate=mu2),     # Node 12\n",
    "                                       ciw.dists.Exponential(rate=mu2),     # Node 13\n",
    "                                       ciw.dists.Exponential(rate=mu2),     # Node 14\n",
    "                                       ciw.dists.Exponential(rate=mu1),     # Node 15\n",
    "                                       ciw.dists.Exponential(rate=mu1),     # Node 16\n",
    "                                       ciw.dists.Exponential(rate=mu1),     # Node 17\n",
    "                                       ciw.dists.Exponential(rate=mu1),       # Node 18\n",
    "                                       ciw.dists.Exponential(rate=mu1),     # Node 19\n",
    "                                       ciw.dists.Exponential(rate=mu1),       # Node 20\n",
    "                                       ciw.dists.Exponential(rate=mu1),    # Node 21\n",
    "                                       ciw.dists.Exponential(rate=mu2)],      # Node 22\n",
    "                           'Class 1': [ciw.dists.Exponential(rate=mu1),       # Node 0\n",
    "                                       ciw.dists.Exponential(rate=mu1),       # Node 1\n",
    "                                       ciw.dists.Exponential(rate=mu1),       # Node 2\n",
    "                                       ciw.dists.Exponential(rate=mu1),       # Node 3\n",
    "                                       ciw.dists.Exponential(rate=mu2),     # Node 4\n",
    "                                       ciw.dists.Exponential(rate=mu2),     # Node 5\n",
    "                                       ciw.dists.Exponential(rate=mu2),     # Node 6\n",
    "                                       ciw.dists.Exponential(rate=mu2),     # Node 7\n",
    "                                       ciw.dists.Exponential(rate=mu2),     # Node 8\n",
    "                                       ciw.dists.Exponential(rate=mu2),     # Node 9\n",
    "                                       ciw.dists.Exponential(rate=mu2),     # Node 10\n",
    "                                       ciw.dists.Exponential(rate=mu2),     # Node 11\n",
    "                                       ciw.dists.Exponential(rate=mu2),     # Node 12\n",
    "                                       ciw.dists.Exponential(rate=mu2),     # Node 13\n",
    "                                       ciw.dists.Exponential(rate=mu2),     # Node 14\n",
    "                                       ciw.dists.Exponential(rate=mu1),     # Node 15\n",
    "                                       ciw.dists.Exponential(rate=mu1),     # Node 16\n",
    "                                       ciw.dists.Exponential(rate=mu1),     # Node 17\n",
    "                                       ciw.dists.Exponential(rate=mu1),       # Node 18\n",
    "                                       ciw.dists.Exponential(rate=mu1),     # Node 19\n",
    "                                       ciw.dists.Exponential(rate=mu1),       # Node 20\n",
    "                                       ciw.dists.Exponential(rate=mu1),    # Node 21\n",
    "                                       ciw.dists.Exponential(rate=mu2)]},      # Node 22\n",
    "    routing={'Class 0': class0_routing.tolist(),\n",
    "             'Class 1': class1_routing.tolist()},\n",
    "    number_of_servers=[1, 1, 1, 1, 1, 1, 1, 1, 1, 1, 1, 1, 1, 1, 1, 1, 1, 1, 1, 1, 1, 1, 1],\n",
    "    queue_capacities=[2000, 2000, 2000, 2000, 2000, 2000, 2000, 2000, 2000, 2000, 2000, 2000, 2000, 2000, 2000, 2000, 2000, 2000, 2000, 2000, 2000, 2000, 2000]\n",
    ")"
   ]
  },
  {
   "cell_type": "markdown",
   "metadata": {
    "id": "wXIutOvb0NGJ"
   },
   "source": [
    "## 4.2 Запуск моделирования"
   ]
  },
  {
   "cell_type": "code",
   "execution_count": 23,
   "metadata": {
    "colab": {
     "base_uri": "https://localhost:8080/"
    },
    "id": "iwB6M7yq0Qgo",
    "outputId": "400d858a-52c7-4e75-8c4f-3c5ac320fc29"
   },
   "outputs": [],
   "source": [
    "node5_utilisation = []\n",
    "node6_utilisation = []\n",
    "node7_utilisation = []\n",
    "node11_utilisation = []\n",
    "node12_utilisation = []\n",
    "node13_utilisation = []\n",
    "\n",
    "node5_service_time = []\n",
    "node6_service_time = []\n",
    "node7_service_time = []\n",
    "node11_service_time = []\n",
    "node12_service_time = []\n",
    "node13_service_time = []\n",
    "\n",
    "node5_reject = []\n",
    "node6_reject = []\n",
    "node7_reject = []\n",
    "node11_reject = []\n",
    "node12_reject = []\n",
    "node13_reject = []\n",
    "\n",
    "month_reject = 0\n",
    "\n",
    "for trial in range(1):\n",
    "  ciw.seed(trial)\n",
    "  Q = ciw.Simulation(N)\n",
    "  Q.simulate_until_max_time(24*30, progress_bar=False) # 24 hour * 30 days\n",
    "  recs = Q.get_all_records()\n",
    "  # Получить время обслуживания серверов\n",
    "  node5_service_time.extend([r.service_time for r in recs if r.node==5])\n",
    "  node6_service_time.extend([r.service_time for r in recs if r.node==6])\n",
    "  node7_service_time.extend([r.service_time for r in recs if r.node==7])\n",
    "  node11_service_time.extend([r.service_time for r in recs if r.node==11])\n",
    "  node12_service_time.extend([r.service_time for r in recs if r.node==12])\n",
    "  node13_service_time.extend([r.service_time for r in recs if r.node==13])\n",
    "\n",
    "  # Получить среднюю заргуженность сервера\n",
    "  node5_utilisation.append(Q.transitive_nodes[5].server_utilisation)\n",
    "  node6_utilisation.append(Q.transitive_nodes[6].server_utilisation)\n",
    "  node7_utilisation.append(Q.transitive_nodes[7].server_utilisation)\n",
    "  node11_utilisation.append(Q.transitive_nodes[11].server_utilisation)\n",
    "  node12_utilisation.append(Q.transitive_nodes[12].server_utilisation)\n",
    "  node13_utilisation.append(Q.transitive_nodes[13].server_utilisation)\n",
    "\n",
    "  # Получичт количество отказов от серверов\n",
    "  node5_reject.append(len(Q.rejection_dict[6][0]))\n",
    "  node6_reject.append(len(Q.rejection_dict[7][0]))\n",
    "  node7_reject.append(len(Q.rejection_dict[8][0]))\n",
    "  node11_reject.append(len(Q.rejection_dict[12][0]))\n",
    "  node12_reject.append(len(Q.rejection_dict[13][0]))\n",
    "  node13_reject.append(len(Q.rejection_dict[14][0]))\n",
    "\n",
    "  for i in range(1, 24):\n",
    "    month_reject += len(Q.rejection_dict[i][0])"
   ]
  },
  {
   "cell_type": "markdown",
   "metadata": {
    "id": "RHilcXiD0SUI"
   },
   "source": [
    "## 4.3 Результаты моделирования"
   ]
  },
  {
   "cell_type": "code",
   "execution_count": 24,
   "metadata": {
    "id": "y9Xd1g3f0UGI"
   },
   "outputs": [
    {
     "name": "stdout",
     "output_type": "stream",
     "text": [
      "Средняя загруженность сервера 1C =  0.1713799965095742\n",
      "Средняя загруженность файл-сервера =  0.22228276943799027\n",
      "Средняя загруженность CRM-сервера =  0.270879896711889\n",
      "Средняя загруженность почтового сервера =  0.30221090631184794\n",
      "Средняя загруженность веб-сервера =  0.5982520548760396\n",
      "Средняя загруженность VPN-сервера =  0.09725033480056074\n"
     ]
    }
   ],
   "source": [
    "# Загруженность серверов\n",
    "node5_month_load = mean(node5_utilisation)\n",
    "node6_month_load = mean(node6_utilisation)\n",
    "node7_month_load = mean(node7_utilisation)\n",
    "node11_month_load = mean(node11_utilisation)\n",
    "node12_month_load = mean(node12_utilisation)\n",
    "node13_month_load = mean(node13_utilisation)\n",
    "\n",
    "print(\"Средняя загруженность сервера 1C = \", mean(node5_utilisation))\n",
    "print(\"Средняя загруженность файл-сервера = \", mean(node6_utilisation))\n",
    "print(\"Средняя загруженность CRM-сервера = \", mean(node7_utilisation))\n",
    "print(\"Средняя загруженность почтового сервера = \", mean(node11_utilisation))\n",
    "print(\"Средняя загруженность веб-сервера = \", mean(node12_utilisation))\n",
    "print(\"Средняя загруженность VPN-сервера = \", mean(node13_utilisation))"
   ]
  },
  {
   "cell_type": "code",
   "execution_count": 25,
   "metadata": {
    "id": "sDJZcQ5-TtUq"
   },
   "outputs": [
    {
     "name": "stdout",
     "output_type": "stream",
     "text": [
      "Среднее количество заявок, поступающих к серверу 1C =  86140.0\n",
      "Среднее количество заявок, поступающих к файл-серверау =  14978.0\n",
      "Среднее количество заявок, поступающих к CRM-серверу =  19297.0\n",
      "Среднее количество заявок, поступающих к почтовому серверу =  59857.0\n",
      "Среднее количество заявок, поступающих к веб-серверу =  26035.0\n",
      "Среднее количество заявок, поступающих к VPN-серверу =  51638.0\n"
     ]
    }
   ],
   "source": [
    "# Количество заявок поступающих к серверм\n",
    "print(\"Среднее количество заявок, поступающих к серверу 1C = \", len(node5_service_time)/1)\n",
    "print(\"Среднее количество заявок, поступающих к файл-серверау = \", len(node6_service_time)/1)\n",
    "print(\"Среднее количество заявок, поступающих к CRM-серверу = \", len(node7_service_time)/1)\n",
    "print(\"Среднее количество заявок, поступающих к почтовому серверу = \", len(node11_service_time)/1)\n",
    "print(\"Среднее количество заявок, поступающих к веб-серверу = \", len(node12_service_time)/1)\n",
    "print(\"Среднее количество заявок, поступающих к VPN-серверу = \", len(node13_service_time)/1)"
   ]
  },
  {
   "cell_type": "code",
   "execution_count": 26,
   "metadata": {
    "id": "cmcpEBniT60e"
   },
   "outputs": [
    {
     "data": {
      "image/png": "[encoded data removed]",
      "text/plain": [
       "<Figure size 864x576 with 6 Axes>"
      ]
     },
     "metadata": {
      "needs_background": "light"
     },
     "output_type": "display_data"
    }
   ],
   "source": [
    "# Интенсивность обработки заявок на серверах\n",
    "fig, axs = plt.subplots(2, 3, figsize=(12,8))\n",
    "axs[0, 0].hist(node5_service_time)\n",
    "axs[0, 0].set_title(\"Сервер 1C\")\n",
    "\n",
    "axs[1, 0].hist(node6_service_time)\n",
    "axs[1, 0].set_title(\"Файл-сервер\")\n",
    "\n",
    "axs[0, 1].hist(node7_service_time)\n",
    "axs[0, 1].set_title(\"CRM-сервер\")\n",
    "\n",
    "axs[1, 1].hist(node11_service_time)\n",
    "axs[1, 1].set_title(\"Почтовой сервер\")\n",
    "\n",
    "axs[0, 2].hist(node12_service_time)\n",
    "axs[0, 2].set_title(\"Веб-сервер\")\n",
    "\n",
    "axs[1, 2].hist(node13_service_time)\n",
    "axs[1, 2].set_title(\"VPN-сервер\")\n",
    "\n",
    "fig.tight_layout()\n",
    "plt.show()"
   ]
  },
  {
   "cell_type": "code",
   "execution_count": 27,
   "metadata": {
    "id": "MS9M2nfzUA0k"
   },
   "outputs": [
    {
     "name": "stdout",
     "output_type": "stream",
     "text": [
      "Среднее количество отказов завяки в течения месяца =  80432\n"
     ]
    }
   ],
   "source": [
    "# Количество отзазов\n",
    "print(\"Среднее количество отказов завяки в течения месяца = \", month_reject)"
   ]
  },
  {
   "cell_type": "markdown",
   "metadata": {
    "id": "lspq6d7W0f55"
   },
   "source": [
    "# 5. Моделирование в течение года"
   ]
  },
  {
   "cell_type": "markdown",
   "metadata": {
    "id": "7dkSwT400f56"
   },
   "source": [
    "## 5.1 Создание сети"
   ]
  },
  {
   "cell_type": "code",
   "execution_count": 28,
   "metadata": {
    "id": "0HantdOO0f56"
   },
   "outputs": [],
   "source": [
    "class YearTimeDependentDist(ciw.dists.Distribution):\n",
    "  def __init__(self, lambda1=1, lambda2=1):\n",
    "    self.lambda1 = lambda1\n",
    "    self.lambda2 = lambda2\n",
    "  def sample(self, t, ind=None):\n",
    "    # time unit = hours\n",
    "    hour = t % 24\n",
    "    day = (t / 24) % 7\n",
    "    month = t / (24*30)\n",
    "    if (hour > 9) and (hour < 18) and (day > 0) and (day < 5) and (month >= 1) and (month < 12):\n",
    "      return random.expovariate(lambd=self.lambda1)\n",
    "    return random.expovariate(lambd=self.lambda2)\n",
    "    \n",
    "    '''\n",
    "  def sample(self, t, ind=None):\n",
    "    # time unit = minutes\n",
    "    hour = (t/60) % 24\n",
    "    day = (t / 60 / 24) % 7\n",
    "    month = (t/60) / 24\n",
    "    if (hour > 9) and (hour < 18) and (day > 0) and (day < 5) and (month >= 1) and (month < 12):\n",
    "      return random.expovariate(lambd=self.lambda1)\n",
    "    return random.expovariate(lambd=self.lambda2)\n",
    "    '''"
   ]
  },
  {
   "cell_type": "code",
   "execution_count": 29,
   "metadata": {
    "id": "BMGetbOB7c82"
   },
   "outputs": [],
   "source": [
    "lam1 = 80\n",
    "lam2 = 10\n",
    "mu1 = 100\n",
    "mu2 = 120\n",
    "\n",
    "N = ciw.create_network(\n",
    "    arrival_distributions={'Class 0': [YearTimeDependentDist(lam1, lam2),       # Node 0\n",
    "                                       YearTimeDependentDist(lam1, lam2),       # Node 1\n",
    "                                       YearTimeDependentDist(lam1, lam2),       # Node 2\n",
    "                                       YearTimeDependentDist(lam1, lam2),       # Node 3\n",
    "                                       ciw.dists.NoArrivals(),              # Node 4\n",
    "                                       ciw.dists.NoArrivals(),              # Node 5\n",
    "                                       ciw.dists.NoArrivals(),              # Node 6\n",
    "                                       ciw.dists.NoArrivals(),              # Node 7\n",
    "                                       ciw.dists.NoArrivals(),              # Node 8\n",
    "                                       ciw.dists.NoArrivals(),              # Node 9\n",
    "                                       ciw.dists.NoArrivals(),              # Node 10\n",
    "                                       ciw.dists.NoArrivals(),              # Node 11\n",
    "                                       ciw.dists.NoArrivals(),              # Node 12\n",
    "                                       ciw.dists.NoArrivals(),              # Node 13\n",
    "                                       ciw.dists.NoArrivals(),              # Node 14\n",
    "                                       ciw.dists.NoArrivals(),              # Node 15\n",
    "                                       YearTimeDependentDist(lam1, lam2),       # Node 16\n",
    "                                       ciw.dists.NoArrivals(),              # Node 17\n",
    "                                       YearTimeDependentDist(lam1, lam2),       # Node 18\n",
    "                                       ciw.dists.NoArrivals(),              # Node 19\n",
    "                                       YearTimeDependentDist(lam1, lam2),       # Node 20\n",
    "                                       ciw.dists.NoArrivals(),              # Node 21\n",
    "                                       YearTimeDependentDist(lam1, lam2)],      # Node 22\n",
    "                           'Class 1': [YearTimeDependentDist(lam1, lam2),       # Node 0\n",
    "                                       YearTimeDependentDist(lam1, lam2),       # Node 1\n",
    "                                       YearTimeDependentDist(lam1, lam2),       # Node 2\n",
    "                                       YearTimeDependentDist(lam1, lam2),       # Node 3\n",
    "                                       ciw.dists.NoArrivals(),              # Node 4\n",
    "                                       ciw.dists.NoArrivals(),              # Node 5\n",
    "                                       ciw.dists.NoArrivals(),              # Node 6\n",
    "                                       ciw.dists.NoArrivals(),              # Node 7\n",
    "                                       ciw.dists.NoArrivals(),              # Node 8\n",
    "                                       ciw.dists.NoArrivals(),              # Node 9\n",
    "                                       ciw.dists.NoArrivals(),              # Node 10\n",
    "                                       ciw.dists.NoArrivals(),              # Node 11\n",
    "                                       ciw.dists.NoArrivals(),              # Node 12\n",
    "                                       ciw.dists.NoArrivals(),              # Node 13\n",
    "                                       ciw.dists.NoArrivals(),              # Node 14\n",
    "                                       ciw.dists.NoArrivals(),              # Node 15\n",
    "                                       YearTimeDependentDist(lam1, lam2),       # Node 16\n",
    "                                       ciw.dists.NoArrivals(),              # Node 17\n",
    "                                       YearTimeDependentDist(lam1, lam2),       # Node 18\n",
    "                                       ciw.dists.NoArrivals(),              # Node 19\n",
    "                                       YearTimeDependentDist(lam1, lam2),       # Node 20\n",
    "                                       ciw.dists.NoArrivals(),              # Node 21\n",
    "                                       YearTimeDependentDist(lam1, lam2)]},     # Node 22\n",
    "    service_distributions={'Class 0': [ciw.dists.Exponential(rate=mu1),       # Node 0\n",
    "                                       ciw.dists.Exponential(rate=mu1),       # Node 1\n",
    "                                       ciw.dists.Exponential(rate=mu1),       # Node 2\n",
    "                                       ciw.dists.Exponential(rate=mu1),       # Node 3\n",
    "                                       ciw.dists.Exponential(rate=mu2),     # Node 4\n",
    "                                       ciw.dists.Exponential(rate=mu2),     # Node 5\n",
    "                                       ciw.dists.Exponential(rate=mu2),     # Node 6\n",
    "                                       ciw.dists.Exponential(rate=mu2),     # Node 7\n",
    "                                       ciw.dists.Exponential(rate=mu2),     # Node 8\n",
    "                                       ciw.dists.Exponential(rate=mu2),     # Node 9\n",
    "                                       ciw.dists.Exponential(rate=mu2),     # Node 10\n",
    "                                       ciw.dists.Exponential(rate=mu2),     # Node 11\n",
    "                                       ciw.dists.Exponential(rate=mu2),     # Node 12\n",
    "                                       ciw.dists.Exponential(rate=mu2),     # Node 13\n",
    "                                       ciw.dists.Exponential(rate=mu2),     # Node 14\n",
    "                                       ciw.dists.Exponential(rate=mu1),     # Node 15\n",
    "                                       ciw.dists.Exponential(rate=mu1),     # Node 16\n",
    "                                       ciw.dists.Exponential(rate=mu1),     # Node 17\n",
    "                                       ciw.dists.Exponential(rate=mu1),       # Node 18\n",
    "                                       ciw.dists.Exponential(rate=mu1),     # Node 19\n",
    "                                       ciw.dists.Exponential(rate=mu1),       # Node 20\n",
    "                                       ciw.dists.Exponential(rate=mu1),    # Node 21\n",
    "                                       ciw.dists.Exponential(rate=mu2)],      # Node 22\n",
    "                           'Class 1': [ciw.dists.Exponential(rate=mu1),       # Node 0\n",
    "                                       ciw.dists.Exponential(rate=mu1),       # Node 1\n",
    "                                       ciw.dists.Exponential(rate=mu1),       # Node 2\n",
    "                                       ciw.dists.Exponential(rate=mu1),       # Node 3\n",
    "                                       ciw.dists.Exponential(rate=mu2),     # Node 4\n",
    "                                       ciw.dists.Exponential(rate=mu2),     # Node 5\n",
    "                                       ciw.dists.Exponential(rate=mu2),     # Node 6\n",
    "                                       ciw.dists.Exponential(rate=mu2),     # Node 7\n",
    "                                       ciw.dists.Exponential(rate=mu2),     # Node 8\n",
    "                                       ciw.dists.Exponential(rate=mu2),     # Node 9\n",
    "                                       ciw.dists.Exponential(rate=mu2),     # Node 10\n",
    "                                       ciw.dists.Exponential(rate=mu2),     # Node 11\n",
    "                                       ciw.dists.Exponential(rate=mu2),     # Node 12\n",
    "                                       ciw.dists.Exponential(rate=mu2),     # Node 13\n",
    "                                       ciw.dists.Exponential(rate=mu2),     # Node 14\n",
    "                                       ciw.dists.Exponential(rate=mu1),     # Node 15\n",
    "                                       ciw.dists.Exponential(rate=mu1),     # Node 16\n",
    "                                       ciw.dists.Exponential(rate=mu1),     # Node 17\n",
    "                                       ciw.dists.Exponential(rate=mu1),       # Node 18\n",
    "                                       ciw.dists.Exponential(rate=mu1),     # Node 19\n",
    "                                       ciw.dists.Exponential(rate=mu1),       # Node 20\n",
    "                                       ciw.dists.Exponential(rate=mu1),    # Node 21\n",
    "                                       ciw.dists.Exponential(rate=mu2)]},      # Node 22\n",
    "    routing={'Class 0': class0_routing.tolist(),\n",
    "             'Class 1': class1_routing.tolist()},\n",
    "    number_of_servers=[1, 1, 1, 1, 1, 1, 1, 1, 1, 1, 1, 1, 1, 1, 1, 1, 1, 1, 1, 1, 1, 1, 1],\n",
    "    queue_capacities=[2000, 2000, 2000, 2000, 2000, 2000, 2000, 2000, 2000, 2000, 2000, 2000, 2000, 2000, 2000, 2000, 2000, 2000, 2000, 2000, 2000, 2000, 2000]\n",
    ")"
   ]
  },
  {
   "cell_type": "markdown",
   "metadata": {
    "id": "x4D2hwix0f56"
   },
   "source": [
    "## 5.2 Запуск моделирования"
   ]
  },
  {
   "cell_type": "code",
   "execution_count": null,
   "metadata": {
    "id": "l3LNNqId0f56"
   },
   "outputs": [],
   "source": [
    "node5_utilisation = []\n",
    "node6_utilisation = []\n",
    "node7_utilisation = []\n",
    "node11_utilisation = []\n",
    "node12_utilisation = []\n",
    "node13_utilisation = []\n",
    "\n",
    "node5_service_time = []\n",
    "node6_service_time = []\n",
    "node7_service_time = []\n",
    "node11_service_time = []\n",
    "node12_service_time = []\n",
    "node13_service_time = []\n",
    "\n",
    "node5_reject = []\n",
    "node6_reject = []\n",
    "node7_reject = []\n",
    "node11_reject = []\n",
    "node12_reject = []\n",
    "node13_reject = []\n",
    "\n",
    "year_reject = 0\n",
    "for trial in range(1):\n",
    "  ciw.seed(trial)\n",
    "  Q = ciw.Simulation(N)\n",
    "  Q.simulate_until_max_time(24*30*12, progress_bar=False) # 60 min * 24 hour * 30 days * 12 months\n",
    "  recs = Q.get_all_records()\n",
    "  # Получить время обслуживания серверов\n",
    "  node5_service_time.extend([r.service_time for r in recs if r.node==5])\n",
    "  node6_service_time.extend([r.service_time for r in recs if r.node==6])\n",
    "  node7_service_time.extend([r.service_time for r in recs if r.node==7])\n",
    "  node11_service_time.extend([r.service_time for r in recs if r.node==11])\n",
    "  node12_service_time.extend([r.service_time for r in recs if r.node==12])\n",
    "  node13_service_time.extend([r.service_time for r in recs if r.node==13])\n",
    "\n",
    "  # Получить среднюю заргуженность сервера\n",
    "  node5_utilisation.append(Q.transitive_nodes[5].server_utilisation)\n",
    "  node6_utilisation.append(Q.transitive_nodes[6].server_utilisation)\n",
    "  node7_utilisation.append(Q.transitive_nodes[7].server_utilisation)\n",
    "  node11_utilisation.append(Q.transitive_nodes[11].server_utilisation)\n",
    "  node12_utilisation.append(Q.transitive_nodes[12].server_utilisation)\n",
    "  node13_utilisation.append(Q.transitive_nodes[13].server_utilisation)\n",
    "\n",
    "  # Получичт количество отказов от серверов\n",
    "  node5_reject.append(len(Q.rejection_dict[6][0]))\n",
    "  node6_reject.append(len(Q.rejection_dict[7][0]))\n",
    "  node7_reject.append(len(Q.rejection_dict[8][0]))\n",
    "  node11_reject.append(len(Q.rejection_dict[12][0]))\n",
    "  node12_reject.append(len(Q.rejection_dict[13][0]))\n",
    "  node13_reject.append(len(Q.rejection_dict[14][0]))\n",
    "\n",
    "  for i in range(1, 24):\n",
    "    year_reject += len(Q.rejection_dict[i][0])"
   ]
  },
  {
   "cell_type": "markdown",
   "metadata": {
    "id": "Zv0dOraM0f56"
   },
   "source": [
    "## 5.3 Результаты моделирования"
   ]
  },
  {
   "cell_type": "code",
   "execution_count": null,
   "metadata": {
    "id": "xyL04TgD0f56"
   },
   "outputs": [],
   "source": [
    "# Загруженность серверов\n",
    "node5_year_load = mean(node5_utilisation)\n",
    "node6_year_load = mean(node6_utilisation)\n",
    "node7_year_load = mean(node7_utilisation)\n",
    "node11_year_load = mean(node11_utilisation)\n",
    "node12_year_load = mean(node12_utilisation)\n",
    "node13_year_load = mean(node13_utilisation)\n",
    "\n",
    "print(\"Средняя загруженность сервера 1C = \", mean(node5_utilisation))\n",
    "print(\"Средняя загруженность файл-сервера = \", mean(node6_utilisation))\n",
    "print(\"Средняя загруженность CRM-сервера = \", mean(node7_utilisation))\n",
    "print(\"Средняя загруженность почтового сервера = \", mean(node11_utilisation))\n",
    "print(\"Средняя загруженность веб-сервера = \", mean(node12_utilisation))\n",
    "print(\"Средняя загруженность VPN-сервера = \", mean(node13_utilisation))"
   ]
  },
  {
   "cell_type": "code",
   "execution_count": null,
   "metadata": {
    "id": "k-PdqeJ8UUEO"
   },
   "outputs": [],
   "source": [
    "# Количество заявок поступающих к серверм\n",
    "print(\"Среднее количество заявок поступающих, к серверу 1C = \", len(node5_service_time)/1)\n",
    "print(\"Среднее количество заявок поступающих, к файл-серверау = \", len(node6_service_time)/1)\n",
    "print(\"Среднее количество заявок поступающих, к CRM-серверу = \", len(node7_service_time)/1)\n",
    "print(\"Среднее количество заявок поступающих, к почтовому серверу = \", len(node11_service_time)/1)\n",
    "print(\"Среднее количество заявок поступающих, к веб-серверу = \", len(node12_service_time)/1)\n",
    "print(\"Среднее количество заявок поступающих, к VPN-серверу = \", len(node13_service_time)/1)"
   ]
  },
  {
   "cell_type": "code",
   "execution_count": null,
   "metadata": {
    "id": "iXQO3ZmHUW0d"
   },
   "outputs": [],
   "source": [
    "# Интенсивность обработки заявок на серверах\n",
    "fig, axs = plt.subplots(2, 3, figsize=(12,8))\n",
    "axs[0, 0].hist(node5_service_time)\n",
    "axs[0, 0].set_title(\"Сервер 1C\")\n",
    "\n",
    "axs[1, 0].hist(node6_service_time)\n",
    "axs[1, 0].set_title(\"Файл-сервер\")\n",
    "\n",
    "axs[0, 1].hist(node7_service_time)\n",
    "axs[0, 1].set_title(\"CRM-сервер\")\n",
    "\n",
    "axs[1, 1].hist(node11_service_time)\n",
    "axs[1, 1].set_title(\"Почтовой сервер\")\n",
    "\n",
    "axs[0, 2].hist(node12_service_time)\n",
    "axs[0, 2].set_title(\"Веб-сервер\")\n",
    "\n",
    "axs[1, 2].hist(node13_service_time)\n",
    "axs[1, 2].set_title(\"VPN-сервер\")\n",
    "\n",
    "fig.tight_layout()\n",
    "plt.show()"
   ]
  },
  {
   "cell_type": "code",
   "execution_count": null,
   "metadata": {
    "id": "7XXaFUmVUbqx"
   },
   "outputs": [],
   "source": [
    "# Количество отзазов\n",
    "print(\"Среднее Количество отказов завяки в течения года = \", year_reject)"
   ]
  },
  {
   "cell_type": "markdown",
   "metadata": {
    "id": "wjjlZ_uRm3hR"
   },
   "source": [
    "# Общий граф"
   ]
  },
  {
   "cell_type": "code",
   "execution_count": null,
   "metadata": {
    "id": "Bh7xfaRDm3Np"
   },
   "outputs": [],
   "source": [
    "year_reject /= 10 \n",
    "timeLine = ['Час', 'День', 'Месяц', 'Год']\n",
    "\n",
    "reject = [hour_reject, 1351, month_reject, 100753]\n",
    "plt.bar(timeLine, reject)\n",
    "plt.xticks(timeLine)\n",
    "plt.xlabel('Время')\n",
    "plt.ylabel('Среднее количество отказов')\n",
    "plt.show()"
   ]
  },
  {
   "cell_type": "code",
   "execution_count": null,
   "metadata": {
    "id": "8URxAbuHnoNw"
   },
   "outputs": [],
   "source": [
    "node5_load = [node5_hour_load, node5_day_load, node5_month_load, node5_year_load]\n",
    "node6_load = [node6_hour_load, node6_day_load, node6_month_load, node6_year_load]\n",
    "node7_load = [node7_hour_load, node7_day_load, node7_month_load, node7_year_load]\n",
    "node11_load = [node11_hour_load, node11_day_load, node11_month_load, node11_year_load]\n",
    "node12_load = [node12_hour_load, node12_day_load, node12_month_load, node12_year_load]\n",
    "node13_load = [node13_hour_load, node13_day_load, node13_month_load, node13_year_load]\n",
    "\n",
    "fig, axs = plt.subplots(2, 3, figsize=(12,8))\n",
    "fig.suptitle('Загруженность серверов')\n",
    "\n",
    "axs[0, 0].bar(timeLine, node5_load)\n",
    "axs[0, 0].set_title(\"Сервер 1C\")\n",
    "\n",
    "axs[1, 0].bar(timeLine, node6_load)\n",
    "axs[1, 0].set_title(\"Файл-сервер\")\n",
    "\n",
    "axs[0, 1].bar(timeLine, node7_load)\n",
    "axs[0, 1].set_title(\"CRM-Сервер\")\n",
    "\n",
    "axs[1, 1].bar(timeLine, node11_load)\n",
    "axs[1, 1].set_title(\"Почтовой cервер\")\n",
    "\n",
    "axs[0, 2].bar(timeLine, node12_load)\n",
    "axs[0, 2].set_title(\"Веб-сервер\")\n",
    "\n",
    "axs[1, 2].bar(timeLine, node13_load)\n",
    "axs[1, 2].set_title(\"VPN-сервер\")\n",
    "\n",
    "plt.show()"
   ]
  },
  {
   "cell_type": "code",
   "execution_count": null,
   "metadata": {
    "id": "vOvS5ed0qCuR"
   },
   "outputs": [],
   "source": []
  }
 ],
 "metadata": {
  "colab": {
   "collapsed_sections": [],
   "name": "Copy_of_Lab3_new.ipynb",
   "provenance": [],
   "toc_visible": true
  },
  "kernelspec": {
   "display_name": "Python 3",
   "language": "python",
   "name": "python3"
  },
  "language_info": {
   "codemirror_mode": {
    "name": "ipython",
    "version": 3
   },
   "file_extension": ".py",
   "mimetype": "text/x-python",
   "name": "python",
   "nbconvert_exporter": "python",
   "pygments_lexer": "ipython3",
   "version": "3.9.2"
  }
 },
 "nbformat": 4,
 "nbformat_minor": 1
}
